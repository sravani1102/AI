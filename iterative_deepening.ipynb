{
  "nbformat": 4,
  "nbformat_minor": 0,
  "metadata": {
    "colab": {
      "provenance": [],
      "authorship_tag": "ABX9TyMBpFG+fN4fWqsn0WjNDX6K",
      "include_colab_link": true
    },
    "kernelspec": {
      "name": "python3",
      "display_name": "Python 3"
    },
    "language_info": {
      "name": "python"
    }
  },
  "cells": [
    {
      "cell_type": "markdown",
      "metadata": {
        "id": "view-in-github",
        "colab_type": "text"
      },
      "source": [
        "<a href=\"https://colab.research.google.com/github/sravani1102/AI/blob/main/iterative_deepening.ipynb\" target=\"_parent\"><img src=\"https://colab.research.google.com/assets/colab-badge.svg\" alt=\"Open In Colab\"/></a>"
      ]
    },
    {
      "cell_type": "code",
      "source": [
        "def BfsDfs(graph,i,goal):\n",
        "  j=0\n",
        "  frontier=[[1,j]]\n",
        "  visited=[]\n",
        "  z=frontier[0]\n",
        "  while 1:\n",
        "    if z[1]==i+1:\n",
        "      return visited,0\n",
        "    if z[0]==goal:\n",
        "      visited.append(z)\n",
        "      return visited,1\n",
        "    for k in range(len(graph[j])):\n",
        "      if graph[j][k]==1:\n",
        "        frontier.append([k+1,z[1]+1])\n",
        "    frontier.remove(z)\n",
        "    visited.append(z)\n",
        "    z=frontier[0]\n",
        "    j=frontier[0][0]-1"
      ],
      "metadata": {
        "id": "4Y2Qq5JJFZYC"
      },
      "execution_count": 26,
      "outputs": []
    },
    {
      "cell_type": "code",
      "source": [
        "def iterativeDeep(graph,depth,goal):\n",
        "  if len(graph)<goal:\n",
        "    return -1\n",
        "  for i in range(depth):\n",
        "    l=BfsDfs(graph,i,goal)\n",
        "    if l[1]:\n",
        "      return l[0]\n",
        "  return -1"
      ],
      "metadata": {
        "id": "bfs_XFqxEdGR"
      },
      "execution_count": 36,
      "outputs": []
    },
    {
      "cell_type": "code",
      "execution_count": 45,
      "metadata": {
        "id": "fuqtnEmEC-ro",
        "colab": {
          "base_uri": "https://localhost:8080/"
        },
        "outputId": "4a10080d-7ff4-4a4d-f368-a0cb78b2fcc8"
      },
      "outputs": [
        {
          "output_type": "stream",
          "name": "stdout",
          "text": [
            "Goal state found at depth level  2\n",
            "Path  [[1, 0], [2, 1], [3, 1], [4, 2], [5, 2], [6, 2]]\n"
          ]
        }
      ],
      "source": [
        "graph=[[0,1,1,0,0,0,0],[0,0,0,1,1,0,0],[0,0,0,0,0,1,1],[0,0,0,0,0,0,0],[0,0,0,0,0,0,0],[0,0,0,0,0,0,0]]\n",
        "depth=3\n",
        "goal=6\n",
        "path=iterativeDeep(graph,depth,goal)\n",
        "if path==-1:\n",
        "  print(\"Not found\")\n",
        "else:\n",
        "  print(\"Goal state found at depth level \",path[-1][1])\n",
        "  print(\"Path \",path)\n"
      ]
    },
    {
      "cell_type": "code",
      "source": [
        "graph=[[0, 1, 1, 1, 0, 0, 0, 0, 0, 0, 0, 0, 0, 0, 0, 0, 0, 0],\n",
        " [0, 0, 0, 0, 1, 1, 0, 0, 0, 0, 0, 0, 0, 0, 0, 0, 0, 0],\n",
        " [0, 0, 0, 0, 0, 0, 1, 0, 0, 0, 0, 0, 0, 0, 0, 0, 0, 0],\n",
        " [0, 0, 0, 0, 0, 0, 0, 1, 0, 0, 0, 0, 0, 0, 0, 0, 0, 0],\n",
        " [0, 0, 0, 0, 0, 0, 0, 0, 1, 0, 0, 0, 0, 0, 0, 0, 0, 0],\n",
        " [0, 0, 0, 0, 0, 0, 0, 0, 0, 1, 1, 0, 0, 0, 0, 0, 0, 0],\n",
        " [0, 0, 0, 0, 0, 0, 0, 0, 0, 0, 0, 1, 0, 0, 0, 0, 0, 0],\n",
        " [0, 0, 0, 0, 0, 0, 0, 0, 0, 0, 0, 0, 1, 1, 0, 0, 0, 0],\n",
        " [0, 0, 0, 0, 0, 0, 0, 0, 0, 0, 0, 0, 0, 0, 0, 0, 0, 0],\n",
        " [0, 0, 0, 0, 0, 0, 0, 0, 0, 0, 0, 0, 0, 0, 0, 0, 0, 0],\n",
        " [0, 0, 0, 0, 0, 0, 0, 0, 0, 0, 0, 0, 0, 0, 1, 1, 0, 0],\n",
        " [0, 0, 0, 0, 0, 0, 0, 0, 0, 0, 0, 0, 0, 0, 0, 0, 1, 0],\n",
        " [0, 0, 0, 0, 0, 0, 0, 0, 0, 0, 0, 0, 0, 0, 0, 0, 0, 0],\n",
        " [0, 0, 0, 0, 0, 0, 0, 0, 0, 0, 0, 0, 0, 0, 0, 0, 0, 1],\n",
        " [0, 0, 0, 0, 0, 0, 0, 0, 0, 0, 0, 0, 0, 0, 0, 0, 0, 0],\n",
        " [0, 0, 0, 0, 0, 0, 0, 0, 0, 0, 0, 0, 0, 0, 0, 0, 0, 0],\n",
        " [0, 0, 0, 0, 0, 0, 0, 0, 0, 0, 0, 0, 0, 0, 0, 0, 0, 0],\n",
        " [0, 0, 0, 0, 0, 0, 0, 0, 0, 0, 0, 0, 0, 0, 0, 0, 0, 0]]\n",
        "depth=5\n",
        "goal=17\n",
        "path=iterativeDeep(graph,depth,goal)\n",
        "if path==-1:\n",
        "  print(\"Not found\")\n",
        "else:\n",
        "  print(\"Goal state found at depth level \",path[-1][1])\n",
        "  print(\"Path \",path)"
      ],
      "metadata": {
        "id": "t2dP4rWqMRCn",
        "colab": {
          "base_uri": "https://localhost:8080/"
        },
        "outputId": "2df67a0b-c7e1-42c5-c22f-c17752021ad7"
      },
      "execution_count": 47,
      "outputs": [
        {
          "output_type": "stream",
          "name": "stdout",
          "text": [
            "Goal state found at depth level  4\n",
            "Path  [[1, 0], [2, 1], [3, 1], [4, 1], [5, 2], [6, 2], [7, 2], [8, 2], [9, 3], [10, 3], [11, 3], [12, 3], [13, 3], [14, 3], [15, 4], [16, 4], [17, 4]]\n"
          ]
        }
      ]
    }
  ]
}
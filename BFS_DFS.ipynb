{
  "nbformat": 4,
  "nbformat_minor": 0,
  "metadata": {
    "colab": {
      "provenance": [],
      "authorship_tag": "ABX9TyPzNI7L6UxkQolnq9yXyrE8",
      "include_colab_link": true
    },
    "kernelspec": {
      "name": "python3",
      "display_name": "Python 3"
    },
    "language_info": {
      "name": "python"
    }
  },
  "cells": [
    {
      "cell_type": "markdown",
      "metadata": {
        "id": "view-in-github",
        "colab_type": "text"
      },
      "source": [
        "<a href=\"https://colab.research.google.com/github/sravani1102/AI/blob/main/BFS_DFS.ipynb\" target=\"_parent\"><img src=\"https://colab.research.google.com/assets/colab-badge.svg\" alt=\"Open In Colab\"/></a>"
      ]
    },
    {
      "cell_type": "markdown",
      "source": [
        "**BFS**"
      ],
      "metadata": {
        "id": "VHiDNkv0mwWS"
      }
    },
    {
      "cell_type": "code",
      "source": [
        "def goalTest(i,g):\n",
        "  if i==g:\n",
        "    return True\n",
        "  return False"
      ],
      "metadata": {
        "id": "441G-JXpmyMA"
      },
      "execution_count": null,
      "outputs": []
    },
    {
      "cell_type": "code",
      "source": [
        "def BFS(l,s,d):\n",
        "  node=s\n",
        "  frontier=[s]\n",
        "  explored=[]\n",
        "  while(1):\n",
        "    if goalTest(node,d):\n",
        "      explored.append(node)\n",
        "      return explored\n",
        "    for i in range(s-1,len(l[0])):\n",
        "      if l[node-1][i]==1:\n",
        "        if (i+1) not in frontier and (i+1) not in explored:\n",
        "          if goalTest(node,d):\n",
        "            explored.append(i+1)\n",
        "            return explored\n",
        "          frontier.append(i+1)\n",
        "    frontier.remove(node)\n",
        "    explored.append(node)\n",
        "    if len(frontier)==0:\n",
        "           return -1\n",
        "    node=frontier[0]"
      ],
      "metadata": {
        "id": "xitq5oLMm3JJ"
      },
      "execution_count": null,
      "outputs": []
    },
    {
      "cell_type": "code",
      "source": [
        "l=[]\n",
        "n=int(input(\"enter number of nodes:\"))\n",
        "for i in range(n):\n",
        "  l.append([int(x) for x in input().split()])\n",
        "print(l)"
      ],
      "metadata": {
        "id": "qLEuI6GhnDee"
      },
      "execution_count": null,
      "outputs": []
    },
    {
      "cell_type": "code",
      "source": [
        "s=int(input(\"Enter intial state:\"))\n",
        "d=int(input(\"Enter Goal state :\"))\n",
        "k=BFS(l,s,d)\n",
        "if k==-1:\n",
        "   print(\"No path\")\n",
        "else:\n",
        "  print(k)"
      ],
      "metadata": {
        "colab": {
          "base_uri": "https://localhost:8080/"
        },
        "id": "IM5yHhpKm4yw",
        "outputId": "edbf3e55-e571-4432-8914-3cc931c99131"
      },
      "execution_count": null,
      "outputs": [
        {
          "output_type": "stream",
          "name": "stdout",
          "text": [
            "Enter intial state:1\n",
            "Enter Goal state :3\n",
            "[1, 2, 3]\n"
          ]
        }
      ]
    },
    {
      "cell_type": "code",
      "source": [
        "l=[[0,1,1,0,0,0,0],[1,0,0,1,1,0,0],[1,0,0,0,0,1,1],[0,1,0,0,0,0,0],\n",
        "   [0,1,0,0,0,0,0],[0,0,1,0,0,0,0],[0,0,1,0,0,0,0]]\n",
        "l"
      ],
      "metadata": {
        "colab": {
          "base_uri": "https://localhost:8080/"
        },
        "id": "PmgEo3GcnBs_",
        "outputId": "d7f9102d-7c3c-455d-839b-1c77cbda156f"
      },
      "execution_count": null,
      "outputs": [
        {
          "output_type": "execute_result",
          "data": {
            "text/plain": [
              "[[0, 1, 1, 0, 0, 0, 0],\n",
              " [1, 0, 0, 1, 1, 0, 0],\n",
              " [1, 0, 0, 0, 0, 1, 1],\n",
              " [0, 1, 0, 0, 0, 0, 0],\n",
              " [0, 1, 0, 0, 0, 0, 0],\n",
              " [0, 0, 1, 0, 0, 0, 0],\n",
              " [0, 0, 1, 0, 0, 0, 0]]"
            ]
          },
          "metadata": {},
          "execution_count": 3
        }
      ]
    },
    {
      "cell_type": "markdown",
      "source": [
        "**DFS**"
      ],
      "metadata": {
        "id": "HIeLwJ4en1b7"
      }
    },
    {
      "cell_type": "code",
      "source": [
        "def dfs(graph,intial,goal):\n",
        "  if intial==goal:\n",
        "    return intial\n",
        "  frontier=[intial]\n",
        "  explored=[intial]\n",
        "  k=intial\n",
        "  while 1:\n",
        "    flag=0\n",
        "    for i in range(len(graph[k-1])):\n",
        "      if(graph[k-1][i]==1):\n",
        "        if (i+1) not in frontier and (i+1) not in explored:\n",
        "          flag=1\n",
        "          if i+1==goal:\n",
        "            explored.append(i+1)\n",
        "            return explored\n",
        "          frontier.append(i+1)\n",
        "          explored.append(i+1)\n",
        "          k=i+1\n",
        "          break\n",
        "    if flag==0:\n",
        "      frontier.pop()\n",
        "      if len(frontier)==0:\n",
        "        return -1\n",
        "      k=frontier[-1]"
      ],
      "metadata": {
        "id": "1l65ZwT_n6fJ"
      },
      "execution_count": null,
      "outputs": []
    },
    {
      "cell_type": "code",
      "source": [
        "graph=[[0,1,1,0,0,0,0],[1,0,0,1,1,0,0],[1,0,0,0,0,1,1],[0,1,0,0,0,0,0],\n",
        "   [0,1,0,0,0,0,0],[0,0,1,0,0,0,0],[0,0,1,0,0,0,0]]\n",
        "intial=int(input(\"Enter intial state:\"))\n",
        "goal=int(input(\"Enter Goal state :\"))"
      ],
      "metadata": {
        "colab": {
          "base_uri": "https://localhost:8080/"
        },
        "id": "o0yE3s6-n-AI",
        "outputId": "0dde69ee-8d8c-4126-afa5-f9d78ac1be3d"
      },
      "execution_count": null,
      "outputs": [
        {
          "name": "stdout",
          "output_type": "stream",
          "text": [
            "Enter intial state:2\n",
            "Enter Goal state :4\n"
          ]
        }
      ]
    },
    {
      "cell_type": "code",
      "source": [
        "k=dfs(graph,intial,goal)\n",
        "if k==-1:\n",
        "  print(\"Not found\")\n",
        "else:\n",
        "  print(\"Reached :\",k)"
      ],
      "metadata": {
        "colab": {
          "base_uri": "https://localhost:8080/"
        },
        "id": "zZzHphdAoA_m",
        "outputId": "25184f48-e2ba-4a3a-f436-fbb94cf87ed8"
      },
      "execution_count": null,
      "outputs": [
        {
          "output_type": "stream",
          "name": "stdout",
          "text": [
            "Reached : [2, 1, 3, 6, 7, 4]\n"
          ]
        }
      ]
    }
  ]
}
{
  "nbformat": 4,
  "nbformat_minor": 0,
  "metadata": {
    "colab": {
      "provenance": [],
      "authorship_tag": "ABX9TyPqmOGfGnV63MddJLWv89ZW",
      "include_colab_link": true
    },
    "kernelspec": {
      "name": "python3",
      "display_name": "Python 3"
    },
    "language_info": {
      "name": "python"
    }
  },
  "cells": [
    {
      "cell_type": "markdown",
      "metadata": {
        "id": "view-in-github",
        "colab_type": "text"
      },
      "source": [
        "<a href=\"https://colab.research.google.com/github/sravani1102/AI/blob/main/WaterJug.ipynb\" target=\"_parent\"><img src=\"https://colab.research.google.com/assets/colab-badge.svg\" alt=\"Open In Colab\"/></a>"
      ]
    },
    {
      "cell_type": "code",
      "execution_count": 1,
      "metadata": {
        "id": "gfY5WJPISE7h"
      },
      "outputs": [],
      "source": [
        "def fill_empty(k,j1,j2):\n",
        "  l=[]\n",
        "  if k[0]<j1:\n",
        "    l.append([j1,k[1]])\n",
        "  if k[1]<j2:\n",
        "    l.append([k[0],j2])\n",
        "  if k[0]>0:\n",
        "    l.append([0,k[1]])\n",
        "  if k[1]>0:\n",
        "    l.append([k[0],0])\n",
        "  if k[0]+k[1]>=j1 and k[1]>0:\n",
        "    l.append([j1,k[1]-(j1-k[0])])\n",
        "  if k[0]+k[1]>=j2 and k[0]>0:\n",
        "    l.append([k[0]-(j2-k[1]),j2])\n",
        "  if k[0]+k[1]<=j1 and k[1]>=0:\n",
        "    l.append([k[0]+k[1],0])\n",
        "  if k[0]+k[1]<=j2 and k[0]>=0:\n",
        "    l.append([0,k[0]+k[1]])\n",
        "  return l"
      ]
    },
    {
      "cell_type": "code",
      "source": [
        "def Wbfs(j1,j2,goal):\n",
        "  f=[[0,0]]\n",
        "  e=[]\n",
        "  z=f[0]\n",
        "  while(1):\n",
        "    if z in goal:\n",
        "      e.append(z)\n",
        "      return e\n",
        "    k=fill_empty(z,j1,j2)\n",
        "    for i in k:\n",
        "      if i not in f and i not in e:\n",
        "        f.append(i)\n",
        "    e.append(f[0])\n",
        "    f.remove(f[0])\n",
        "    if len(f)==0:\n",
        "      return -1\n",
        "    z=f[0]"
      ],
      "metadata": {
        "id": "m1EPFS8jSJl1"
      },
      "execution_count": 9,
      "outputs": []
    },
    {
      "cell_type": "code",
      "source": [
        "j1=int(input(\"Jug one :\"))\n",
        "j2=int(input(\"Jug two :\"))\n",
        "g=int(input(\"Enter goal :\"))\n",
        "goal=[]\n",
        "for i in range(j2+1):\n",
        "  goal.append([g,i])\n",
        "if Wbfs(j1,j2,goal)==-1:\n",
        "  print(\"No goal state\")\n",
        "else:\n",
        "  print(\"True\")\n",
        "  print(Wbfs(j1,j2,goal))"
      ],
      "metadata": {
        "colab": {
          "base_uri": "https://localhost:8080/"
        },
        "id": "lECtDQ_mSL7N",
        "outputId": "8ef84257-0db2-4d3f-a66c-677feae5df4f"
      },
      "execution_count": 11,
      "outputs": [
        {
          "output_type": "stream",
          "name": "stdout",
          "text": [
            "Jug one :5\n",
            "Jug two :3\n",
            "Enter goal :2\n",
            "True\n",
            "[[0, 0], [5, 0], [0, 3], [5, 3], [2, 3]]\n"
          ]
        }
      ]
    },
    {
      "cell_type": "code",
      "source": [],
      "metadata": {
        "id": "I25P9IlNSN3p"
      },
      "execution_count": null,
      "outputs": []
    }
  ]
}
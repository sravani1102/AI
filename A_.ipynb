{
  "nbformat": 4,
  "nbformat_minor": 0,
  "metadata": {
    "colab": {
      "provenance": [],
      "authorship_tag": "ABX9TyOjd14AP8Kuvb97bs5CPq8B",
      "include_colab_link": true
    },
    "kernelspec": {
      "name": "python3",
      "display_name": "Python 3"
    },
    "language_info": {
      "name": "python"
    }
  },
  "cells": [
    {
      "cell_type": "markdown",
      "metadata": {
        "id": "view-in-github",
        "colab_type": "text"
      },
      "source": [
        "<a href=\"https://colab.research.google.com/github/sravani1102/AI/blob/main/A_.ipynb\" target=\"_parent\"><img src=\"https://colab.research.google.com/assets/colab-badge.svg\" alt=\"Open In Colab\"/></a>"
      ]
    },
    {
      "cell_type": "code",
      "execution_count": 25,
      "metadata": {
        "id": "LjoxKEb_4RiG"
      },
      "outputs": [],
      "source": [
        "def nextNode(v,g,l,hsld):\n",
        "  k=l[0]\n",
        "  min=hsld[k[0]]+g[v[k[1]][0]-1][k[0]-1]\n",
        "  for x in l:\n",
        "    p=hsld[x[0]]+g[v[x[1]][0]-1][x[0]-1]\n",
        "    if min>p:\n",
        "      min=p\n",
        "      k=x\n",
        "  return k"
      ]
    },
    {
      "cell_type": "code",
      "source": [
        "def greedyBFS(g,hsld,goal):\n",
        "  l=[[1,-1]]\n",
        "  v=[[1,-1]]\n",
        "  z=l[0]\n",
        "  while 1:\n",
        "    if z[0]==goal:\n",
        "      return v[:v.index(z)+1]\n",
        "    for i in range(len(g)):\n",
        "      if g[z[0]-1][i]!=0:\n",
        "        l.append([i+1,v.index(z)])\n",
        "        v.append([i+1,v.index(z)])\n",
        "    l.remove(z)\n",
        "    z=nextNode(v,g,l,hsld)"
      ],
      "metadata": {
        "id": "zGP6Kshh6T_V"
      },
      "execution_count": 26,
      "outputs": []
    },
    {
      "cell_type": "code",
      "source": [
        "g=[[0,1,2,0,0,0,0,0,0,0],[0,0,0,7,9,5,0,0,0,0],[0,0,0,0,0,0,4,3,6,8],[0,0,0,0,0,0,0,0,0,0],[0,0,0,0,0,0,0,0,0,0],\n",
        " [0,0,0,0,0,0,0,0,0,0],[0,0,0,0,0,0,0,0,0,0],[0,0,0,0,0,0,0,0,1,0],[0,0,0,0,0,0,0,0,0,0],[0,0,0,0,0,0,0,0,0,0]]\n",
        "hsld={1:8,2:10,3:4,4:15,5:14,6:7,7:12,8:2,9:0,10:11}\n",
        "goal=7"
      ],
      "metadata": {
        "id": "-liZiimv6XrT"
      },
      "execution_count": 29,
      "outputs": []
    },
    {
      "cell_type": "code",
      "source": [
        "v=greedyBFS(g,hsld,goal)\n",
        "y=[]\n",
        "x=v[-1]\n",
        "while x[1]!=-1:\n",
        "  y.insert(0,x[0])\n",
        "  x=v[x[1]]\n",
        "y.insert(0,v[0][0])\n",
        "print(y)"
      ],
      "metadata": {
        "colab": {
          "base_uri": "https://localhost:8080/"
        },
        "id": "N8jR6CdG6qlu",
        "outputId": "cbcdfae9-db82-4009-cf5d-9631d80aa1c8"
      },
      "execution_count": 40,
      "outputs": [
        {
          "output_type": "stream",
          "name": "stdout",
          "text": [
            "[1, 3, 7, 8, 10]\n"
          ]
        }
      ]
    },
    {
      "cell_type": "code",
      "source": [
        "g=[[0,1,1,0,0,0,0,0,0,0],[0,0,0,1,1,0,0,0,0,0],[0,0,0,0,0,1,1,0,0,0],[0,0,0,0,0,0,0,0,0,0],[0,0,0,0,0,0,0,0,0,0],[0,0,0,0,0,0,0,0,1,0]\n",
        "   ,[0,0,0,0,0,0,0,1,0,2],[0,0,0,0,0,0,0,0,0,1],[0,0,0,0,0,0,0,0,0,0],[0,0,0,0,0,0,0,0,0,0]]\n",
        "hsld={1:13,2:12,3:4,4:7,9:4,10:9,8:0,5:3,6:8,7:2}\n",
        "goal=10"
      ],
      "metadata": {
        "id": "D9L4aAEP-i7g"
      },
      "execution_count": 39,
      "outputs": []
    },
    {
      "cell_type": "code",
      "source": [],
      "metadata": {
        "id": "FIIDoue1AFgT"
      },
      "execution_count": null,
      "outputs": []
    }
  ]
}
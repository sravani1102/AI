{
  "nbformat": 4,
  "nbformat_minor": 0,
  "metadata": {
    "colab": {
      "provenance": [],
      "authorship_tag": "ABX9TyPsvCFTbPG9VGESJE0lWxWV",
      "include_colab_link": true
    },
    "kernelspec": {
      "name": "python3",
      "display_name": "Python 3"
    },
    "language_info": {
      "name": "python"
    }
  },
  "cells": [
    {
      "cell_type": "markdown",
      "metadata": {
        "id": "view-in-github",
        "colab_type": "text"
      },
      "source": [
        "<a href=\"https://colab.research.google.com/github/sravani1102/AI/blob/main/Uniformcost.ipynb\" target=\"_parent\"><img src=\"https://colab.research.google.com/assets/colab-badge.svg\" alt=\"Open In Colab\"/></a>"
      ]
    },
    {
      "cell_type": "code",
      "source": [
        "def minCost(f):\n",
        "  min=f[0][1]\n",
        "  j=0\n",
        "  for i in range(1,len(f)):\n",
        "    if min>f[i][1]:\n",
        "      min=f[i][1]\n",
        "      j=i\n",
        "  return f[j]"
      ],
      "metadata": {
        "id": "bzUgbR4-nPFi"
      },
      "execution_count": null,
      "outputs": []
    },
    {
      "cell_type": "code",
      "execution_count": 41,
      "metadata": {
        "id": "RnRar8Bs1cd1"
      },
      "outputs": [],
      "source": [
        "def uniformCost(graph,intial,goal):\n",
        "  f=[[intial,0,-1]]\n",
        "  z=f[0]\n",
        "  visited=[z]\n",
        "  while 1:\n",
        "    if z[0] in graph.keys():\n",
        "      l=graph[z[0]]\n",
        "      for i in range(len(l)):\n",
        "        flag=0\n",
        "        l[i][1]+=z[1]\n",
        "        l[i].append(visited.index(z))\n",
        "        for j in range(len(visited)):\n",
        "          if l[i][0]==visited[j][0]:\n",
        "            flag=1\n",
        "            break\n",
        "        if flag==0:\n",
        "          f.append(l[i])\n",
        "          visited.append(l[i])\n",
        "        else:\n",
        "          if visited[j][1]>l[i][1]:\n",
        "            visited[j][1]=l[i][1]\n",
        "            visited[j][2]=l[i][2]\n",
        "            f.append(l[i])\n",
        "    f.remove(z)\n",
        "    if len(f)==0:\n",
        "      break\n",
        "    z=minCost(f)\n",
        "  for x in visited:\n",
        "    if x[0]==goal:\n",
        "      u=x\n",
        "  k=[]\n",
        "  while 1:\n",
        "    k.insert(0,u)\n",
        "    if u[-1]==-1:\n",
        "      break\n",
        "    u=visited[u[-1]]\n",
        "  print(k)"
      ]
    },
    {
      "cell_type": "code",
      "source": [
        "graph={1:[[2,2],[4,5]],2:[[7,1]],3:[[2,4]],4:[[2,5],[5,2],[7,6]],5:[[3,4],[6,3]],6:[[3,6],[7,3]],7:[[4,7]]}\n",
        "#intial=int(input(\"Enter intial state :\"))\n",
        "#goal=int(input(\"Enter goal state :\"))\n",
        "intial=1\n",
        "goal=7\n",
        "uniformCost(graph,intial,goal)"
      ],
      "metadata": {
        "id": "EClc5Anp-Lf5",
        "colab": {
          "base_uri": "https://localhost:8080/"
        },
        "outputId": "6e121554-aaee-4109-f498-97d9615191ed"
      },
      "execution_count": 40,
      "outputs": [
        {
          "output_type": "stream",
          "name": "stdout",
          "text": [
            "[[1, 0, -1], [2, 2, 0], [4, 5, 0], [7, 3, 1], [5, 7, 2], [3, 11, 4], [6, 10, 4]]\n",
            "[[1, 0, -1], [2, 2, 0], [7, 3, 1]]\n"
          ]
        }
      ]
    },
    {
      "cell_type": "code",
      "source": [
        "graph={1:[[2,1],[6,12]],2:[[3,3],[4,1]],3:[[5,3]],4:[[5,1],[6,2]],5:[[6,3]]}\n",
        "#intial=int(input(\"Enter intial state :\"))\n",
        "#goal=int(input(\"Enter goal state :\"))\n",
        "intial=1\n",
        "goal=6\n",
        "uniformCost(graph,intial,goal)"
      ],
      "metadata": {
        "colab": {
          "base_uri": "https://localhost:8080/"
        },
        "id": "V01wQ-rn4cMx",
        "outputId": "956e60f8-d5ad-4e45-e432-06445645a79f"
      },
      "execution_count": 42,
      "outputs": [
        {
          "output_type": "stream",
          "name": "stdout",
          "text": [
            "[[1, 0, -1], [2, 1, 0], [4, 2, 1], [6, 4, 4]]\n"
          ]
        }
      ]
    },
    {
      "cell_type": "code",
      "source": [
        "graph={1:[[2,13],[3,7],[6,5]],2:[[4,3],[8,3]],3:[[4,5],[5,1],[7,5]],4:[[8,2]],5:[[7,4]],6:[[7,6]]}\n",
        "#intial=int(input(\"Enter intial state :\"))\n",
        "#goal=int(input(\"Enter goal state :\"))\n",
        "intial=1\n",
        "goal=8\n",
        "uniformCost(graph,intial,goal)"
      ],
      "metadata": {
        "colab": {
          "base_uri": "https://localhost:8080/"
        },
        "id": "BrYVRSpE4hVy",
        "outputId": "f736aa7c-b388-4595-adec-0e9525267b12"
      },
      "execution_count": 43,
      "outputs": [
        {
          "output_type": "stream",
          "name": "stdout",
          "text": [
            "[[1, 0, -1], [3, 7, 0], [4, 12, 2], [8, 14, 5]]\n"
          ]
        }
      ]
    },
    {
      "cell_type": "code",
      "source": [],
      "metadata": {
        "id": "GcmNg2rR56SU"
      },
      "execution_count": null,
      "outputs": []
    }
  ]
}
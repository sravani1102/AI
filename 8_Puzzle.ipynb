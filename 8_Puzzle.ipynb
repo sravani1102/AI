{
  "nbformat": 4,
  "nbformat_minor": 0,
  "metadata": {
    "colab": {
      "provenance": [],
      "authorship_tag": "ABX9TyMaGZjP8bIQK4yicAK44vs/",
      "include_colab_link": true
    },
    "kernelspec": {
      "name": "python3",
      "display_name": "Python 3"
    },
    "language_info": {
      "name": "python"
    }
  },
  "cells": [
    {
      "cell_type": "markdown",
      "metadata": {
        "id": "view-in-github",
        "colab_type": "text"
      },
      "source": [
        "<a href=\"https://colab.research.google.com/github/sravani1102/AI/blob/main/8_Puzzle.ipynb\" target=\"_parent\"><img src=\"https://colab.research.google.com/assets/colab-badge.svg\" alt=\"Open In Colab\"/></a>"
      ]
    },
    {
      "cell_type": "code",
      "source": [
        "import numpy as np"
      ],
      "metadata": {
        "id": "DxmVOTjNHVj8"
      },
      "execution_count": 67,
      "outputs": []
    },
    {
      "cell_type": "code",
      "execution_count": 68,
      "metadata": {
        "id": "cjWJzQljCQLO"
      },
      "outputs": [],
      "source": [
        "intial=[[1,2,3],[5,6,0],[7,8,4]]\n",
        "goal=[[1,2,3],[5,8,6],[0,7,4]]"
      ]
    },
    {
      "cell_type": "code",
      "source": [
        "intial=[[1,2,3],[8,0,4],[7,6,5]]\n",
        "goal=[[2,8,1],[0,4,3],[7,6,5]]"
      ],
      "metadata": {
        "id": "1c5rArEs1vwO"
      },
      "execution_count": 69,
      "outputs": []
    },
    {
      "cell_type": "code",
      "source": [
        "def index(z,i):\n",
        "  p=np.array(z)\n",
        "  l=list(np.where(np.array(z)==i))\n",
        "  return [l[0][0],l[1][0]]"
      ],
      "metadata": {
        "id": "quKNslIKIDLs"
      },
      "execution_count": 70,
      "outputs": []
    },
    {
      "cell_type": "code",
      "source": [
        "import copy\n",
        "def child(z,k):\n",
        "  l=[]\n",
        "  if (k[0]-1)>=0:\n",
        "    p=copy.deepcopy(z)\n",
        "    p[k[0]-1][k[1]],p[k[0]][k[1]]=p[k[0]][k[1]],p[k[0]-1][k[1]]\n",
        "    l.append(p)\n",
        "  if (k[0]+1)<len(z):\n",
        "    p=copy.deepcopy(z)\n",
        "    p[k[0]+1][k[1]],p[k[0]][k[1]]=p[k[0]][k[1]],p[k[0]+1][k[1]]\n",
        "    l.append(p)\n",
        "  if (k[1]-1)>=0:\n",
        "    p=copy.deepcopy(z)\n",
        "    p[k[0]][k[1]-1],p[k[0]][k[1]]=p[k[0]][k[1]],p[k[0]][k[1]-1]\n",
        "    l.append(p)\n",
        "  if (k[1]+1)<len(z):\n",
        "    p=copy.deepcopy(z)\n",
        "    p[k[0]][k[1]+1],p[k[0]][k[1]]=p[k[0]][k[1]],p[k[0]][k[1]+1]\n",
        "    l.append(p)\n",
        "  return l"
      ],
      "metadata": {
        "id": "SiLTLZMzK3OB"
      },
      "execution_count": 71,
      "outputs": []
    },
    {
      "cell_type": "code",
      "source": [
        "def hamDistance(current,g,goal):\n",
        "  k=0\n",
        "  for i in range(1,9):\n",
        "    p1=index(current,i)\n",
        "    p2=index(goal,i)\n",
        "    k+=abs(p1[0]-p2[0])+abs(p1[1]-p2[1])\n",
        "  k+=g\n",
        "  return k"
      ],
      "metadata": {
        "id": "CFgEchu6uUa1"
      },
      "execution_count": 72,
      "outputs": []
    },
    {
      "cell_type": "code",
      "source": [
        "def calHeu(l,goal):\n",
        "  min=hamDistance(l[0][0],l[0][1],goal)\n",
        "  p=0\n",
        "  for i in range(1,len(l)):\n",
        "    k=hamDistance(l[i][0],l[i][1],goal)\n",
        "    if min>k:\n",
        "      min=k\n",
        "      p=i\n",
        "  return l[p]"
      ],
      "metadata": {
        "id": "f4lED5EcuHQp"
      },
      "execution_count": 73,
      "outputs": []
    },
    {
      "cell_type": "code",
      "source": [
        "def Puzzle8(intial,goal):\n",
        "  l=[[intial,0]]\n",
        "  v=[]\n",
        "  z=l[0]\n",
        "  while 1:\n",
        "    if(z[0]==goal):\n",
        "      v.append(z[0])\n",
        "      print(\"Goal reached\")\n",
        "      return v\n",
        "    k=index(z[0],0)\n",
        "    p=child(z[0],k)\n",
        "    for i in range(len(p)):\n",
        "      l.append([p[i],z[-1]+1])\n",
        "    l.remove(z)\n",
        "    v.append(z[0])\n",
        "    z=calHeu(l,goal)"
      ],
      "metadata": {
        "id": "GdXTdizWG53q"
      },
      "execution_count": 74,
      "outputs": []
    },
    {
      "cell_type": "code",
      "source": [
        "Puzzle8(intial,goal)"
      ],
      "metadata": {
        "id": "AN_UtthjCpS3",
        "colab": {
          "base_uri": "https://localhost:8080/"
        },
        "outputId": "76579321-2a67-4d84-f9ab-22f39821f8d4"
      },
      "execution_count": 75,
      "outputs": [
        {
          "output_type": "stream",
          "name": "stdout",
          "text": [
            "Goal reached\n"
          ]
        },
        {
          "output_type": "execute_result",
          "data": {
            "text/plain": [
              "[[[1, 2, 3], [8, 0, 4], [7, 6, 5]],\n",
              " [[1, 2, 3], [0, 8, 4], [7, 6, 5]],\n",
              " [[1, 2, 3], [8, 4, 0], [7, 6, 5]],\n",
              " [[1, 2, 0], [8, 4, 3], [7, 6, 5]],\n",
              " [[1, 0, 3], [8, 2, 4], [7, 6, 5]],\n",
              " [[1, 2, 3], [8, 6, 4], [7, 0, 5]],\n",
              " [[0, 2, 3], [1, 8, 4], [7, 6, 5]],\n",
              " [[1, 2, 3], [7, 8, 4], [0, 6, 5]],\n",
              " [[1, 2, 3], [8, 0, 4], [7, 6, 5]],\n",
              " [[1, 2, 3], [8, 4, 5], [7, 6, 0]],\n",
              " [[1, 2, 3], [8, 0, 4], [7, 6, 5]],\n",
              " [[1, 2, 3], [8, 4, 0], [7, 6, 5]],\n",
              " [[1, 0, 2], [8, 4, 3], [7, 6, 5]],\n",
              " [[1, 2, 3], [8, 0, 4], [7, 6, 5]],\n",
              " [[0, 1, 3], [8, 2, 4], [7, 6, 5]],\n",
              " [[1, 2, 3], [8, 0, 4], [7, 6, 5]],\n",
              " [[1, 2, 3], [0, 8, 4], [7, 6, 5]],\n",
              " [[2, 0, 3], [1, 8, 4], [7, 6, 5]],\n",
              " [[1, 2, 3], [0, 8, 4], [7, 6, 5]],\n",
              " [[1, 2, 3], [0, 8, 4], [7, 6, 5]],\n",
              " [[1, 2, 3], [8, 4, 0], [7, 6, 5]],\n",
              " [[1, 2, 3], [8, 4, 0], [7, 6, 5]],\n",
              " [[1, 2, 3], [0, 8, 4], [7, 6, 5]],\n",
              " [[1, 2, 3], [8, 4, 0], [7, 6, 5]],\n",
              " [[1, 2, 0], [8, 4, 3], [7, 6, 5]],\n",
              " [[0, 1, 2], [8, 4, 3], [7, 6, 5]],\n",
              " [[1, 2, 0], [8, 4, 3], [7, 6, 5]],\n",
              " [[1, 2, 3], [0, 8, 4], [7, 6, 5]],\n",
              " [[1, 2, 3], [8, 4, 0], [7, 6, 5]],\n",
              " [[8, 1, 3], [0, 2, 4], [7, 6, 5]],\n",
              " [[1, 2, 3], [0, 8, 4], [7, 6, 5]],\n",
              " [[1, 2, 3], [8, 4, 0], [7, 6, 5]],\n",
              " [[2, 8, 3], [1, 0, 4], [7, 6, 5]],\n",
              " [[1, 2, 0], [8, 4, 3], [7, 6, 5]],\n",
              " [[1, 2, 0], [8, 4, 3], [7, 6, 5]],\n",
              " [[1, 2, 0], [8, 4, 3], [7, 6, 5]],\n",
              " [[8, 1, 2], [0, 4, 3], [7, 6, 5]],\n",
              " [[1, 2, 0], [8, 4, 3], [7, 6, 5]],\n",
              " [[8, 1, 3], [2, 0, 4], [7, 6, 5]],\n",
              " [[1, 2, 0], [8, 4, 3], [7, 6, 5]],\n",
              " [[2, 8, 3], [0, 1, 4], [7, 6, 5]],\n",
              " [[2, 8, 3], [1, 4, 0], [7, 6, 5]],\n",
              " [[8, 1, 3], [2, 4, 0], [7, 6, 5]],\n",
              " [[2, 8, 0], [1, 4, 3], [7, 6, 5]],\n",
              " [[8, 1, 0], [2, 4, 3], [7, 6, 5]],\n",
              " [[8, 0, 1], [2, 4, 3], [7, 6, 5]],\n",
              " [[0, 8, 1], [2, 4, 3], [7, 6, 5]],\n",
              " [[2, 8, 1], [0, 4, 3], [7, 6, 5]]]"
            ]
          },
          "metadata": {},
          "execution_count": 75
        }
      ]
    },
    {
      "cell_type": "code",
      "source": [],
      "metadata": {
        "id": "8zGW3IN5H3kE"
      },
      "execution_count": null,
      "outputs": []
    }
  ]
}
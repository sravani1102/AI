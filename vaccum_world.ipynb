{
  "nbformat": 4,
  "nbformat_minor": 0,
  "metadata": {
    "colab": {
      "provenance": [],
      "authorship_tag": "ABX9TyO55Ab+KXu5QhvrElN7pPrz",
      "include_colab_link": true
    },
    "kernelspec": {
      "name": "python3",
      "display_name": "Python 3"
    },
    "language_info": {
      "name": "python"
    }
  },
  "cells": [
    {
      "cell_type": "markdown",
      "metadata": {
        "id": "view-in-github",
        "colab_type": "text"
      },
      "source": [
        "<a href=\"https://colab.research.google.com/github/sravani1102/AI/blob/main/vaccum_world.ipynb\" target=\"_parent\"><img src=\"https://colab.research.google.com/assets/colab-badge.svg\" alt=\"Open In Colab\"/></a>"
      ]
    },
    {
      "cell_type": "code",
      "source": [
        "def action(z):\n",
        "  child=[]\n",
        "  if z[0]=='L':\n",
        "    child.append(['R',z[1]])\n",
        "    child.append(['L',[0,z[1][1]]])\n",
        "  else:\n",
        "    child.append(['L',z[1]])\n",
        "    child.append(['R',[z[1][0],0]])\n",
        "  return child"
      ],
      "metadata": {
        "id": "JD4tXXiEshJK"
      },
      "execution_count": 10,
      "outputs": []
    },
    {
      "cell_type": "code",
      "execution_count": 11,
      "metadata": {
        "id": "eo1nBjPBqxHM"
      },
      "outputs": [],
      "source": [
        "def vaccumWorld():\n",
        "  f=[['L',[1,1]]]\n",
        "  visited=[['L',[1,1]]]\n",
        "  z=f[0]\n",
        "  while 1:\n",
        "    child=action(z)\n",
        "    for x in child:\n",
        "      if x not in visited:\n",
        "        f.append(x)\n",
        "        visited.append(x)\n",
        "        if x==['L',[0,0]] or x==['R',[0,0]]:\n",
        "          print(\"Goal reached\")\n",
        "          return visited\n",
        "    f.remove(z)\n",
        "    z=f[0]"
      ]
    },
    {
      "cell_type": "code",
      "source": [
        "vaccumWorld()"
      ],
      "metadata": {
        "colab": {
          "base_uri": "https://localhost:8080/"
        },
        "id": "S_Vy3orEvDo4",
        "outputId": "086230a8-4552-4299-a44a-12663b91e8d1"
      },
      "execution_count": 12,
      "outputs": [
        {
          "output_type": "stream",
          "name": "stdout",
          "text": [
            "Goal reached\n"
          ]
        },
        {
          "output_type": "execute_result",
          "data": {
            "text/plain": [
              "[['L', [1, 1]],\n",
              " ['R', [1, 1]],\n",
              " ['L', [0, 1]],\n",
              " ['R', [1, 0]],\n",
              " ['R', [0, 1]],\n",
              " ['L', [1, 0]],\n",
              " ['R', [0, 0]]]"
            ]
          },
          "metadata": {},
          "execution_count": 12
        }
      ]
    },
    {
      "cell_type": "code",
      "source": [],
      "metadata": {
        "id": "CEZ0vfXrvFn5"
      },
      "execution_count": null,
      "outputs": []
    }
  ]
}
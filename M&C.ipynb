{
  "nbformat": 4,
  "nbformat_minor": 0,
  "metadata": {
    "colab": {
      "provenance": [],
      "authorship_tag": "ABX9TyNPOloudPTF0YTGU9FdPkKB",
      "include_colab_link": true
    },
    "kernelspec": {
      "name": "python3",
      "display_name": "Python 3"
    },
    "language_info": {
      "name": "python"
    }
  },
  "cells": [
    {
      "cell_type": "markdown",
      "metadata": {
        "id": "view-in-github",
        "colab_type": "text"
      },
      "source": [
        "<a href=\"https://colab.research.google.com/github/sravani1102/AI/blob/main/M%26C.ipynb\" target=\"_parent\"><img src=\"https://colab.research.google.com/assets/colab-badge.svg\" alt=\"Open In Colab\"/></a>"
      ]
    },
    {
      "cell_type": "code",
      "source": [
        "def accept(p):\n",
        "  i=0\n",
        "  while i<len(p):\n",
        "    bl=p[i][0]\n",
        "    br=p[i][1]\n",
        "    if (bl[0]<bl[1] and bl[0]!=0) or (br[0]<br[1] and br[0]!=0):\n",
        "      p.remove(p[i])\n",
        "    else:\n",
        "      i+=1\n",
        "  return p"
      ],
      "metadata": {
        "id": "6DbQLHisDBP0"
      },
      "execution_count": 1,
      "outputs": []
    },
    {
      "cell_type": "code",
      "source": [
        "def crossRiver(z,k):\n",
        "  x=z[k]\n",
        "  p=[]\n",
        "  if k==0:\n",
        "    if x[0]>=2:\n",
        "      v=[[x[0]-2,x[1]],[z[1][0]+2,z[1][1]]]\n",
        "      p.append(v)\n",
        "    if x[1]>=2:\n",
        "      v=[[x[0],x[1]-2],[z[1][0],z[1][1]+2]]\n",
        "      p.append(v)\n",
        "    if x[0]>=1 and x[1]>=1:\n",
        "      v=[[x[0]-1,x[1]-1],[z[1][0]+1,z[1][1]+1]]\n",
        "      p.append(v)\n",
        "    if x[0]>=1:\n",
        "      v=[[x[0]-1,x[1]],[z[1][0]+1,z[1][1]]]\n",
        "      p.append(v)\n",
        "    if x[1]>=1:\n",
        "      v=[[x[0],x[1]-1],[z[1][0],z[1][1]+1]]\n",
        "      p.append(v)\n",
        "  else:\n",
        "    if x[0]>=2:\n",
        "      v=[[z[0][0]+2,z[0][1]],[x[0]-2,x[1]]]\n",
        "      p.append(v)\n",
        "    if x[1]>=2:\n",
        "      v=[[z[0][0],z[0][1]+2],[x[0],x[1]-2]]\n",
        "      p.append(v)\n",
        "    if x[0]>=1 and x[1]>=1:\n",
        "      v=[[z[0][0]+1,z[0][1]+1],[x[0]-1,x[1]-1]]\n",
        "      p.append(v)\n",
        "    if x[0]>=1:\n",
        "      v=[[z[0][0]+1,z[0][1]],[x[0]-1,x[1]]]\n",
        "      p.append(v)\n",
        "    if x[1]>=1:\n",
        "      v=[[z[0][0],z[0][1]+1],[x[0],x[1]-1]]\n",
        "      p.append(v)\n",
        "  return accept(p)"
      ],
      "metadata": {
        "id": "itEq07RPAJeP"
      },
      "execution_count": 2,
      "outputs": []
    },
    {
      "cell_type": "code",
      "execution_count": 3,
      "metadata": {
        "id": "Aktpeutx-bAl"
      },
      "outputs": [],
      "source": [
        "def MandC():\n",
        "  l=[[[3,3],[0,0],-1,0]]\n",
        "  m=l.copy()\n",
        "  z=l[0]\n",
        "  flag=0\n",
        "  while 1:\n",
        "    p=crossRiver(z,z[-1])\n",
        "    for i in range(len(p)):\n",
        "      if z[-1]==0:\n",
        "        p[i].extend([m.index(z),1])\n",
        "      else:\n",
        "        p[i].extend([m.index(z),0])\n",
        "      if p[i][:2]==[[0,0],[3,3]]:\n",
        "        m.extend(p[:i+1])\n",
        "        return m\n",
        "    l.extend(p)\n",
        "    m.extend(p)\n",
        "    l.remove(z)\n",
        "    z=l[0]"
      ]
    },
    {
      "cell_type": "code",
      "source": [
        "m=MandC()\n",
        "y=[]\n",
        "u=m[-1]\n",
        "while u[2]!=-1:\n",
        "  y.insert(0,u)\n",
        "  u=m[u[2]]\n",
        "print(\"Intial :\",m[0][:2])\n",
        "for x in y:\n",
        "  if x[-1]==1:\n",
        "    print(\"Left to Right :\",x[:2])\n",
        "  else:\n",
        "    print(\"Right to left :\",x[:2])"
      ],
      "metadata": {
        "id": "sMVEU0fPJGrT",
        "colab": {
          "base_uri": "https://localhost:8080/"
        },
        "outputId": "c3b8e1a2-234a-4531-e22e-14b22baac416"
      },
      "execution_count": 5,
      "outputs": [
        {
          "output_type": "stream",
          "name": "stdout",
          "text": [
            "Intial : [[3, 3], [0, 0]]\n",
            "Left to Right : [[3, 1], [0, 2]]\n",
            "Right to left : [[3, 2], [0, 1]]\n",
            "Left to Right : [[3, 0], [0, 3]]\n",
            "Right to left : [[3, 1], [0, 2]]\n",
            "Left to Right : [[1, 1], [2, 2]]\n",
            "Right to left : [[2, 2], [1, 1]]\n",
            "Left to Right : [[0, 2], [3, 1]]\n",
            "Right to left : [[0, 3], [3, 0]]\n",
            "Left to Right : [[0, 1], [3, 2]]\n",
            "Right to left : [[1, 1], [2, 2]]\n",
            "Left to Right : [[0, 0], [3, 3]]\n"
          ]
        }
      ]
    },
    {
      "cell_type": "code",
      "source": [],
      "metadata": {
        "id": "Rqv1dShAy7xN"
      },
      "execution_count": null,
      "outputs": []
    }
  ]
}
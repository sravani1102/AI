{
  "nbformat": 4,
  "nbformat_minor": 0,
  "metadata": {
    "colab": {
      "provenance": [],
      "authorship_tag": "ABX9TyMcC1Qv5HiBfpW/5EBhqEEn",
      "include_colab_link": true
    },
    "kernelspec": {
      "name": "python3",
      "display_name": "Python 3"
    },
    "language_info": {
      "name": "python"
    }
  },
  "cells": [
    {
      "cell_type": "markdown",
      "metadata": {
        "id": "view-in-github",
        "colab_type": "text"
      },
      "source": [
        "<a href=\"https://colab.research.google.com/github/sravani1102/AI/blob/main/Greedy_bfs.ipynb\" target=\"_parent\"><img src=\"https://colab.research.google.com/assets/colab-badge.svg\" alt=\"Open In Colab\"/></a>"
      ]
    },
    {
      "cell_type": "code",
      "source": [
        "def nextNode(l,hsld):\n",
        "  min=hsld[l[0][0]]\n",
        "  k=l[0]\n",
        "  for x in l:\n",
        "    if min>hsld[x[0]]:\n",
        "      min=hsld[x[0]]\n",
        "      k=x\n",
        "  return k"
      ],
      "metadata": {
        "id": "HlffP_Xin7Wy"
      },
      "execution_count": 78,
      "outputs": []
    },
    {
      "cell_type": "code",
      "source": [
        "def greedyBFS(g,hsld,goal):\n",
        "  l=[[1,-1]]\n",
        "  v=[[1,-1]]\n",
        "  z=l[0]\n",
        "  while 1:\n",
        "    if z[0]==goal:\n",
        "      return v[:v.index(z)+1]\n",
        "    for i in range(len(g)):\n",
        "      if g[z[0]-1][i]!=0:\n",
        "        l.append([i+1,v.index(z)])\n",
        "        v.append([i+1,v.index(z)])\n",
        "    l.remove(z)\n",
        "    z=nextNode(l,hsld)"
      ],
      "metadata": {
        "id": "7cyPrWF8CksD"
      },
      "execution_count": 105,
      "outputs": []
    },
    {
      "cell_type": "code",
      "execution_count": 107,
      "metadata": {
        "id": "iD54Zg9t6wgX",
        "colab": {
          "base_uri": "https://localhost:8080/"
        },
        "outputId": "b04604a0-f3ff-476b-da8d-8ec13a2505e3"
      },
      "outputs": [
        {
          "name": "stdout",
          "output_type": "stream",
          "text": [
            "Enter goal state :7\n"
          ]
        }
      ],
      "source": [
        "g=[[0,1,2,0,0,0,0,0,0,0],[0,0,0,7,9,5,0,0,0,0],[0,0,0,0,0,0,4,3,6,8],[0,0,0,0,0,0,0,0,0,0],[0,0,0,0,0,0,0,0,0,0],\n",
        " [0,0,0,0,0,0,0,0,0,0],[0,0,0,0,0,0,0,0,0,0],[0,0,0,0,0,0,0,0,1,0],[0,0,0,0,0,0,0,0,0,0],[0,0,0,0,0,0,0,0,0,0]]\n",
        "hsld={1:8,2:10,3:4,4:15,5:14,6:7,7:12,8:2,9:0,10:11}\n",
        "goal=int(input(\"Enter goal state :\"))"
      ]
    },
    {
      "cell_type": "code",
      "source": [
        "g=[[0,1,1,0,0,0,0,0,0,0],[0,0,0,1,1,0,0,0,0,0],[0,0,0,0,0,1,1,0,0,0],[0,0,0,0,0,0,0,0,0,0],[0,0,0,0,0,0,0,0,0,0],[0,0,0,0,0,0,0,0,1,0]\n",
        "   ,[0,0,0,0,0,0,0,1,0,1],[0,0,0,0,0,0,0,0,0,0],[0,0,0,0,0,0,0,0,0,0],[0,0,0,0,0,0,0,0,0,0]]\n",
        "hsld={1:13,2:12,3:4,4:7,9:4,10:9,8:0,5:3,6:8,7:2}\n",
        "goal=8"
      ],
      "metadata": {
        "id": "evRI6C5Py5DW"
      },
      "execution_count": 103,
      "outputs": []
    },
    {
      "cell_type": "code",
      "source": [
        "v=greedyBFS(g,hsld,goal)\n",
        "y=[]\n",
        "x=v[-1]\n",
        "while x[1]!=-1:\n",
        "  y.insert(0,x[0])\n",
        "  x=v[x[1]]\n",
        "y.insert(0,v[0][0])\n",
        "print(y)"
      ],
      "metadata": {
        "colab": {
          "base_uri": "https://localhost:8080/"
        },
        "id": "IqesU-cuqtz6",
        "outputId": "0e87203b-7383-42d4-abd0-1d8752a56b42"
      },
      "execution_count": 108,
      "outputs": [
        {
          "output_type": "stream",
          "name": "stdout",
          "text": [
            "[1, 3, 7]\n"
          ]
        }
      ]
    },
    {
      "cell_type": "code",
      "source": [],
      "metadata": {
        "id": "qrlVW5Nm2dFl"
      },
      "execution_count": null,
      "outputs": []
    }
  ]
}
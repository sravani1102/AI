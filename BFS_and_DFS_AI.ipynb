{
  "nbformat": 4,
  "nbformat_minor": 0,
  "metadata": {
    "colab": {
      "provenance": [],
      "authorship_tag": "ABX9TyOgKWmn1DQnvX1EtcPUDQUM",
      "include_colab_link": true
    },
    "kernelspec": {
      "name": "python3",
      "display_name": "Python 3"
    },
    "language_info": {
      "name": "python"
    }
  },
  "cells": [
    {
      "cell_type": "markdown",
      "metadata": {
        "id": "view-in-github",
        "colab_type": "text"
      },
      "source": [
        "<a href=\"https://colab.research.google.com/github/sravani1102/AI/blob/main/BFS_and_DFS_AI.ipynb\" target=\"_parent\"><img src=\"https://colab.research.google.com/assets/colab-badge.svg\" alt=\"Open In Colab\"/></a>"
      ]
    },
    {
      "cell_type": "code",
      "execution_count": null,
      "metadata": {
        "id": "1KFikVSOfqBb"
      },
      "outputs": [],
      "source": [
        "l=[[0,1,1,0,0,0,0],[1,0,0,1,1,0,0],[1,0,0,0,0,1,1],[0,1,0,0,0,0,0],\n",
        "   [0,1,0,0,0,0,0],[0,0,1,0,0,0,0],[0,0,1,0,0,0,0]]\n",
        "l"
      ]
    },
    {
      "cell_type": "code",
      "source": [
        "def goalTest(i,g):\n",
        "  if i==g:\n",
        "    return True\n",
        "  return False"
      ],
      "metadata": {
        "id": "MiaMxrX9tgWG"
      },
      "execution_count": 3,
      "outputs": []
    },
    {
      "cell_type": "code",
      "source": [
        "def BFS(s,d):\n",
        "  node=s\n",
        "  frontier=[s]\n",
        "  explored=[]\n",
        "  while(1):\n",
        "    if goalTest(node,d):\n",
        "      explored.append(node)\n",
        "      return explored\n",
        "    for i in range(s-1,len(l[0])):\n",
        "      if l[node-1][i]==1:\n",
        "        if (i+1) not in frontier and (i+1) not in explored:\n",
        "          if goalTest(node,d):\n",
        "            explored.append(i+1)\n",
        "            return explored\n",
        "          frontier.append(i+1)\n",
        "    frontier.remove(node)\n",
        "    explored.append(node)\n",
        "    if len(frontier)==0:\n",
        "           return -1\n",
        "    node=frontier[0]"
      ],
      "metadata": {
        "id": "fDgWQ7I3hb96"
      },
      "execution_count": 4,
      "outputs": []
    },
    {
      "cell_type": "code",
      "source": [
        "s=int(input(\"Enter intial state:\"))\n",
        "d=int(input(\"Enter Goal state :\"))\n",
        "k=BFS(s,d)\n",
        "if k==-1:\n",
        "   print(\"No path\")\n",
        "else:\n",
        "  print(k)"
      ],
      "metadata": {
        "colab": {
          "base_uri": "https://localhost:8080/"
        },
        "id": "CcYJOOWXmOtZ",
        "outputId": "5af8da9f-239e-497b-9086-1950ae41fcb6"
      },
      "execution_count": 5,
      "outputs": [
        {
          "output_type": "stream",
          "name": "stdout",
          "text": [
            "Enter intial state:1\n",
            "Enter Goal state :2\n",
            "[1, 2]\n"
          ]
        }
      ]
    },
    {
      "cell_type": "code",
      "source": [
        "l=[]\n",
        "n=int(input(\"enter number of nodes:\"))\n",
        "for i in range(n):\n",
        "  l.append([int(x) for x in input().split()])\n",
        "print(l)"
      ],
      "metadata": {
        "id": "X24oKu1JmTPx"
      },
      "execution_count": null,
      "outputs": []
    },
    {
      "cell_type": "code",
      "source": [
        "graph=[[0,1,1,0,0,0,0],[1,0,0,1,1,0,0],[1,0,0,0,0,1,1],[0,1,0,0,0,0,0],\n",
        "   [0,1,0,0,0,0,0],[0,0,1,0,0,0,0],[0,0,1,0,0,0,0]]\n",
        "intial=int(input(\"Enter intial state:\"))\n",
        "goal=int(input(\"Enter Goal state :\"))"
      ],
      "metadata": {
        "id": "WOibxJMGvEaD",
        "colab": {
          "base_uri": "https://localhost:8080/"
        },
        "outputId": "f53b3e8c-8f5e-4481-9614-40780d36fb10"
      },
      "execution_count": 47,
      "outputs": [
        {
          "name": "stdout",
          "output_type": "stream",
          "text": [
            "Enter intial state:2\n",
            "Enter Goal state :4\n"
          ]
        }
      ]
    },
    {
      "cell_type": "code",
      "source": [
        "def dfs(graph,intial,goal):\n",
        "  if intial==goal:\n",
        "    return intial\n",
        "  frontier=[intial]\n",
        "  explored=[intial]\n",
        "  k=intial\n",
        "  while 1:\n",
        "    flag=0\n",
        "    for i in range(len(graph[k-1])):\n",
        "      if(graph[k-1][i]==1):\n",
        "        if (i+1) not in frontier and (i+1) not in explored:\n",
        "          flag=1\n",
        "          if i+1==goal:\n",
        "            explored.append(i+1)\n",
        "            return explored\n",
        "          frontier.append(i+1)\n",
        "          explored.append(i+1)\n",
        "          k=i+1\n",
        "          break\n",
        "    if flag==0:\n",
        "      frontier.pop()\n",
        "      if len(frontier)==0:\n",
        "        return -1\n",
        "      k=frontier[-1]"
      ],
      "metadata": {
        "id": "bHpwGsxLZ5ML"
      },
      "execution_count": 48,
      "outputs": []
    },
    {
      "cell_type": "code",
      "source": [
        "k=dfs(graph,intial,goal)\n",
        "if k==-1:\n",
        "  print(\"Not found\")\n",
        "else:\n",
        "  print(\"Reached :\",k)"
      ],
      "metadata": {
        "colab": {
          "base_uri": "https://localhost:8080/"
        },
        "id": "mM7bNjxSba7r",
        "outputId": "812a1eb4-ec7b-4cef-99d6-eb2951bde6c8"
      },
      "execution_count": 49,
      "outputs": [
        {
          "output_type": "stream",
          "name": "stdout",
          "text": [
            "Reached : [2, 1, 3, 6, 7, 4]\n"
          ]
        }
      ]
    }
  ]
}
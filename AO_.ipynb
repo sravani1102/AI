{
  "nbformat": 4,
  "nbformat_minor": 0,
  "metadata": {
    "colab": {
      "provenance": [],
      "authorship_tag": "ABX9TyO+HjO5HJLiTDg0TVSzGKC1",
      "include_colab_link": true
    },
    "kernelspec": {
      "name": "python3",
      "display_name": "Python 3"
    },
    "language_info": {
      "name": "python"
    }
  },
  "cells": [
    {
      "cell_type": "markdown",
      "metadata": {
        "id": "view-in-github",
        "colab_type": "text"
      },
      "source": [
        "<a href=\"https://colab.research.google.com/github/sravani1102/AI/blob/main/AO_.ipynb\" target=\"_parent\"><img src=\"https://colab.research.google.com/assets/colab-badge.svg\" alt=\"Open In Colab\"/></a>"
      ]
    },
    {
      "cell_type": "code",
      "source": [
        "def AOstar(g,c):\n",
        "  k=list(c.keys())[::-1]\n",
        "  for x in k:\n",
        "    z=c[x]\n",
        "    p=list(z.keys())\n",
        "    l=[]\n",
        "    for y in p:\n",
        "      for i in range(len(z[y])):\n",
        "        z[y][i]=g[z[y][i]]+1\n",
        "      if y=='OR':\n",
        "        l.append(min(z[y]))\n",
        "      else:\n",
        "        l.append(sum(z[y]))\n",
        "        z[y]=[sum(z[y])]\n",
        "    g[x]=min(l)"
      ],
      "metadata": {
        "id": "Py0pj5rOFJb0"
      },
      "execution_count": null,
      "outputs": []
    },
    {
      "cell_type": "code",
      "execution_count": null,
      "metadata": {
        "colab": {
          "base_uri": "https://localhost:8080/"
        },
        "id": "ATp6jizXDuZH",
        "outputId": "6484e9de-cce6-4acc-a092-e64fc2ba7aa2"
      },
      "outputs": [
        {
          "output_type": "stream",
          "name": "stdout",
          "text": [
            "{'A': 5, 'B': 8, 'C': 2, 'D': 1, 'E': 7, 'F': 9, 'G': 3, 'H': 0, 'I': 0, 'J': 0}\n"
          ]
        }
      ],
      "source": [
        "g={'A':0,'B': 0,'C': 0,'D': 0,'E': 7,'F': 9,'G': 3,'H': 0,'I': 0,'J': 0}\n",
        "c={'A': {'OR': ['B'], 'AND': ['C', 'D']},\n",
        "   'B': {'OR': ['E', 'F']},\n",
        "   'C': {'OR': ['G'],'AND':['H','I']},\n",
        "   'D': {'OR': ['J']},\n",
        "}\n",
        "AOstar(g,c)\n",
        "print(g)"
      ]
    },
    {
      "cell_type": "code",
      "source": [],
      "metadata": {
        "id": "HEq_EFSnGrvJ"
      },
      "execution_count": null,
      "outputs": []
    }
  ]
}
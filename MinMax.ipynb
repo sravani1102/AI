{
  "nbformat": 4,
  "nbformat_minor": 0,
  "metadata": {
    "colab": {
      "provenance": [],
      "authorship_tag": "ABX9TyNLLeUuyfNTupazQ0HiKphS",
      "include_colab_link": true
    },
    "kernelspec": {
      "name": "python3",
      "display_name": "Python 3"
    },
    "language_info": {
      "name": "python"
    }
  },
  "cells": [
    {
      "cell_type": "markdown",
      "metadata": {
        "id": "view-in-github",
        "colab_type": "text"
      },
      "source": [
        "<a href=\"https://colab.research.google.com/github/sravani1102/AI/blob/main/MinMax.ipynb\" target=\"_parent\"><img src=\"https://colab.research.google.com/assets/colab-badge.svg\" alt=\"Open In Colab\"/></a>"
      ]
    },
    {
      "cell_type": "code",
      "execution_count": 17,
      "metadata": {
        "id": "BGL3EzPWxAPp"
      },
      "outputs": [],
      "source": [
        "def MinMax(g):\n",
        "  key=list(g.keys())[::-1]\n",
        "  for x in key:\n",
        "    k=g[x]\n",
        "    if type(k[0][0])==int:\n",
        "      if k[1]==0:\n",
        "        g[x]=min(k[0])\n",
        "      else:\n",
        "        g[x]=max(k[0])\n",
        "    else:\n",
        "      l=[]\n",
        "      for y in k[0]:\n",
        "        l.append(g[y])\n",
        "      if k[1]==0:\n",
        "        g[x]=min(l)\n",
        "      else:\n",
        "        g[x]=max(l)\n",
        "  return g"
      ]
    },
    {
      "cell_type": "code",
      "source": [
        "graph={'A':[['B','C'],1],'B':[['D','E'],0],'C':[['F','G'],0],\n",
        "       'D':[['H','I'],1],'E':[['J','K'],1],'F':[['L','M'],1],'G':[['N','O'],1],\n",
        "       'H':[[-1],0],'I':[[4],0],'J':[[2],0],'K':[[6],0],'L':[[-3],0],'M':[[-5],0],'N':[[0],0],'O':[[7],0]}\n",
        "\n",
        "print(MinMax(graph))"
      ],
      "metadata": {
        "colab": {
          "base_uri": "https://localhost:8080/"
        },
        "id": "Gi1DJknt1yPW",
        "outputId": "76819af3-cdab-4783-86d8-fcfde52b38f3"
      },
      "execution_count": 18,
      "outputs": [
        {
          "output_type": "stream",
          "name": "stdout",
          "text": [
            "{'A': 4, 'B': 4, 'C': -3, 'D': 4, 'E': 6, 'F': -3, 'G': 7, 'H': -1, 'I': 4, 'J': 2, 'K': 6, 'L': -3, 'M': -5, 'N': 0, 'O': 7}\n"
          ]
        }
      ]
    },
    {
      "cell_type": "code",
      "source": [
        "type(graph['D'][0][0])==str"
      ],
      "metadata": {
        "id": "_25bvtXB7h5-",
        "colab": {
          "base_uri": "https://localhost:8080/"
        },
        "outputId": "fa440d89-ddb9-4996-a532-99d8f737f339"
      },
      "execution_count": 12,
      "outputs": [
        {
          "output_type": "execute_result",
          "data": {
            "text/plain": [
              "True"
            ]
          },
          "metadata": {},
          "execution_count": 12
        }
      ]
    },
    {
      "cell_type": "code",
      "source": [],
      "metadata": {
        "id": "Dv__wGZv95pp"
      },
      "execution_count": 11,
      "outputs": []
    }
  ]
}